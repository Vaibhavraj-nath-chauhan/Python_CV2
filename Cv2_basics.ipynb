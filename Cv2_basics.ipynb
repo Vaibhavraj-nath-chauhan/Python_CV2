{
 "cells": [
  {
   "cell_type": "code",
   "execution_count": 1,
   "metadata": {},
   "outputs": [],
   "source": [
    "import cv2                                                           #importing cv2 library\n",
    "import numpy as np                                                   #importing numpy"
   ]
  },
  {
   "cell_type": "code",
   "execution_count": 2,
   "metadata": {},
   "outputs": [],
   "source": [
    "Images = []\n",
    "for row in range(500):                                               #created a loop to create Image Dimensions\n",
    "    Row =[]\n",
    "    for col in range(500):\n",
    "        Row.append([255,255,255])\n",
    "    Images.append(Row)\n"
   ]
  },
  {
   "cell_type": "code",
   "execution_count": 3,
   "metadata": {},
   "outputs": [],
   "source": [
    "Image = np.array(Images)                                             #converting list in array\n",
    "Image = Image.astype(\"uint8\")                                        #setting type of image"
   ]
  },
  {
   "cell_type": "code",
   "execution_count": 4,
   "metadata": {},
   "outputs": [],
   "source": [
    "Image = cv2.rectangle(Image, (80, 180), (450, 245), (0,0,255), 3)  #bgr, creating rectangle on image      \n",
    "Image = cv2.putText(Image, \"Vaibhavraj Nath Chauhan\", (80, 220), cv2.FONT_HERSHEY_SIMPLEX, 1.0, (0,0,0), 2)   #putting text\n",
    "                   #image   #text                      #dimension   #font           #transperance #rgb   #thickness"
   ]
  },
  {
   "cell_type": "code",
   "execution_count": 5,
   "metadata": {},
   "outputs": [],
   "source": [
    "while True:                                                          #creating terminating loop for image counsol \n",
    "    cv2.imshow(\"My New iMG\", Image)\n",
    "    if cv2.waitKey(1)==ord(\"l\"):                                     # ord provide assci wali of chracter when it is pressed\n",
    "        break\n",
    "cv2.destroyAllWindows()                                              # destroing all windows"
   ]
  },
  {
   "cell_type": "markdown",
   "metadata": {},
   "source": [
    "# Importing Image to the image I create"
   ]
  },
  {
   "cell_type": "code",
   "execution_count": 6,
   "metadata": {},
   "outputs": [],
   "source": [
    "img = cv2.imread(\"test_1.jpg\")\n",
    "img = cv2.resize(img,(150,150))\n",
    "Image[30:180, 175:325] = img\n",
    "while True:                                                          \n",
    "    cv2.imshow(\"my_img\",Image)\n",
    "    if cv2.waitKey(1)==ord(\"l\"):                                    \n",
    "        break\n",
    "cv2.destroyAllWindows()    \n"
   ]
  },
  {
   "cell_type": "code",
   "execution_count": null,
   "metadata": {},
   "outputs": [],
   "source": []
  }
 ],
 "metadata": {
  "kernelspec": {
   "display_name": "Python 3",
   "language": "python",
   "name": "python3"
  },
  "language_info": {
   "codemirror_mode": {
    "name": "ipython",
    "version": 3
   },
   "file_extension": ".py",
   "mimetype": "text/x-python",
   "name": "python",
   "nbconvert_exporter": "python",
   "pygments_lexer": "ipython3",
   "version": "3.7.6"
  }
 },
 "nbformat": 4,
 "nbformat_minor": 4
}
