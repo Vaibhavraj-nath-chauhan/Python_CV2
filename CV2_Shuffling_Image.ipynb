{
 "cells": [
  {
   "cell_type": "code",
   "execution_count": 29,
   "metadata": {},
   "outputs": [],
   "source": [
    "import cv2\n",
    "import numpy as np"
   ]
  },
  {
   "cell_type": "code",
   "execution_count": 30,
   "metadata": {},
   "outputs": [],
   "source": [
    "imgs = []\n",
    "for row in range(723):\n",
    "    Row = []\n",
    "    for col in range(728):\n",
    "        Row.append([0,0,0])\n",
    "    imgs.append(Row)\n",
    "img = np.array(imgs)\n",
    "img = img.astype(\"uint8\")  "
   ]
  },
  {
   "cell_type": "code",
   "execution_count": 68,
   "metadata": {},
   "outputs": [],
   "source": [
    "Image = cv2.imread(\"test_2.jpg\")\n",
    "# row1        1\n",
    "img[0:364, 0:361]=  Image[364:728,362:723]\n",
    "# row2        3  \n",
    "img[364:728,0:361]= Image[0:359,362:723]\n",
    "# col1        2 \n",
    "img[0:364,361:723] = Image[364:728,0:362] \n",
    "# col2        4\n",
    "img[364:728,361:723] = Image[0:359, 0:362]\n",
    "\n",
    "\n",
    "while True:\n",
    "    cv2.imshow(\"Test\",img)\n",
    "    if cv2.waitKey(1)==ord(\"l\"):\n",
    "        break\n",
    "cv2.destroyAllWindows()"
   ]
  },
  {
   "cell_type": "code",
   "execution_count": null,
   "metadata": {},
   "outputs": [],
   "source": []
  }
 ],
 "metadata": {
  "kernelspec": {
   "display_name": "Python 3",
   "language": "python",
   "name": "python3"
  },
  "language_info": {
   "codemirror_mode": {
    "name": "ipython",
    "version": 3
   },
   "file_extension": ".py",
   "mimetype": "text/x-python",
   "name": "python",
   "nbconvert_exporter": "python",
   "pygments_lexer": "ipython3",
   "version": "3.7.6"
  }
 },
 "nbformat": 4,
 "nbformat_minor": 4
}
